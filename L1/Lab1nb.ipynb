{
 "cells": [
  {
   "cell_type": "markdown",
   "metadata": {},
   "source": [
    "<!-- ### Hivas menete -->\n",
    " \n",
    "\n",
    "```mermaid\n",
    "---\n",
    "title: Node with text\n",
    "---\n",
    "flowchart LR\n",
    "    id1[This is the text in the box]\n",
    "\n",
    "\n",
    "```"
   ]
  },
  {
   "cell_type": "markdown",
   "metadata": {},
   "source": []
  },
  {
   "cell_type": "markdown",
   "metadata": {},
   "source": []
  }
 ],
 "metadata": {
  "language_info": {
   "name": "python"
  }
 },
 "nbformat": 4,
 "nbformat_minor": 2
}
